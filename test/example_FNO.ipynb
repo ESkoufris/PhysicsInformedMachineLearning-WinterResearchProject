{
 "cells": [
  {
   "cell_type": "code",
   "execution_count": 13,
   "metadata": {},
   "outputs": [
    {
     "data": {
      "text/plain": [
       "FNO(\n",
       "  (fno_blocks): FNOBlocks(\n",
       "    (convs): SpectralConv(\n",
       "      (weight): ModuleList(\n",
       "        (0-3): 4 x ComplexDenseTensor(shape=torch.Size([64, 64, 16, 9]), rank=None)\n",
       "      )\n",
       "    )\n",
       "    (fno_skips): ModuleList(\n",
       "      (0-3): 4 x Conv2d(64, 64, kernel_size=(1, 1), stride=(1, 1), bias=False)\n",
       "    )\n",
       "  )\n",
       "  (lifting): MLP(\n",
       "    (fcs): ModuleList(\n",
       "      (0): Conv2d(3, 256, kernel_size=(1, 1), stride=(1, 1))\n",
       "      (1): Conv2d(256, 64, kernel_size=(1, 1), stride=(1, 1))\n",
       "    )\n",
       "  )\n",
       "  (projection): MLP(\n",
       "    (fcs): ModuleList(\n",
       "      (0): Conv2d(64, 256, kernel_size=(1, 1), stride=(1, 1))\n",
       "      (1): Conv2d(256, 1, kernel_size=(1, 1), stride=(1, 1))\n",
       "    )\n",
       "  )\n",
       ")"
      ]
     },
     "execution_count": 13,
     "metadata": {},
     "output_type": "execute_result"
    }
   ],
   "source": [
    "from neuralop.models import FNO\n",
    "\n",
    "operator = FNO(n_modes=(16, 16), hidden_channels=64,\n",
    "                in_channels=3, out_channels=1)\n",
    "\n",
    "operator"
   ]
  },
  {
   "cell_type": "code",
   "execution_count": null,
   "metadata": {},
   "outputs": [],
   "source": []
  }
 ],
 "metadata": {
  "kernelspec": {
   "display_name": "env",
   "language": "python",
   "name": "python3"
  },
  "language_info": {
   "codemirror_mode": {
    "name": "ipython",
    "version": 3
   },
   "file_extension": ".py",
   "mimetype": "text/x-python",
   "name": "python",
   "nbconvert_exporter": "python",
   "pygments_lexer": "ipython3",
   "version": "3.12.2"
  }
 },
 "nbformat": 4,
 "nbformat_minor": 2
}
