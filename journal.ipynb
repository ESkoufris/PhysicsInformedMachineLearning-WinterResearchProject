{
 "cells": [
  {
   "cell_type": "markdown",
   "metadata": {},
   "source": [
    "# Daily journal - Winter reserach project"
   ]
  },
  {
   "cell_type": "markdown",
   "metadata": {},
   "source": [
    "## Week 1"
   ]
  },
  {
   "cell_type": "markdown",
   "metadata": {},
   "source": [
    "##### 24/06/24"
   ]
  },
  {
   "cell_type": "markdown",
   "metadata": {},
   "source": [
    "- Started to implement code that solves 1D-PDEs - specifically, the heat and wave equations.\n",
    "- Still reading the review paper on PINNs\n",
    "- Managed to get derivative functions to work on a batch of points\n",
    "- Finished writing training function \n",
    "- Need to sort out ICs and BCs "
   ]
  },
  {
   "cell_type": "markdown",
   "metadata": {},
   "source": [
    "##### 25/06/24"
   ]
  },
  {
   "cell_type": "markdown",
   "metadata": {
    "vscode": {
     "languageId": "plaintext"
    }
   },
   "source": [
    "What I achieved:\n",
    "- Fixed differentiation issues, where derivatives of the pinn wrt to the inputs (rather than parameters) weren't being computed. \n",
    "- Got a working PINN, that seems to so far attain the initial state of the system\n",
    "\n",
    "What I need to work on:\n",
    "- Need to generalise/abstract the code as much as possible so that I can train PINNs on virtually arbitrary PDEs over arbitrary domains\n",
    "- Fix inconsistencies and clean up code, by renaming things and writing more helpful docstrings\n",
    "- Create a good plotting function in order to plot approximated solutions"
   ]
  },
  {
   "cell_type": "markdown",
   "metadata": {},
   "source": [
    "##### 26/06/24"
   ]
  },
  {
   "cell_type": "markdown",
   "metadata": {
    "vscode": {
     "languageId": "plaintext"
    }
   },
   "source": [
    "What I achieved:\n",
    "- Created a robust plotting function\n",
    "- Updated grid methods\n",
    "- Obtained 'good' PINN results for the heat equation\n",
    "\n",
    "What I need to work on:\n",
    "- Try and change the numbers to float64 instead of float32 for more precision, as it seems the PINN is struggling to learn the solution when it's close to zero. \n",
    "- Clean code and docstrings\n",
    "- Load analytical solutions to compare"
   ]
  },
  {
   "cell_type": "markdown",
   "metadata": {},
   "source": [
    "#### 27/06/24"
   ]
  },
  {
   "cell_type": "markdown",
   "metadata": {},
   "source": [
    "## Week 2"
   ]
  },
  {
   "cell_type": "markdown",
   "metadata": {},
   "source": []
  }
 ],
 "metadata": {
  "language_info": {
   "name": "python"
  }
 },
 "nbformat": 4,
 "nbformat_minor": 2
}
